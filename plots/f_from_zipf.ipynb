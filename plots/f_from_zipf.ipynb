{
 "cells": [
  {
   "cell_type": "code",
   "execution_count": 1,
   "metadata": {},
   "outputs": [],
   "source": [
    "import numpy as np\n",
    "import matplotlib.pyplot as plt\n",
    "import torch"
   ]
  },
  {
   "cell_type": "code",
   "execution_count": 2,
   "metadata": {},
   "outputs": [],
   "source": [
    "def zipf(alpha,m):\n",
    "    x=np.zeros(m)\n",
    "    for i in range(m):\n",
    "        x[i]=(i+1)**(-1-alpha)\n",
    "    x=x/np.sum(x)\n",
    "    return x"
   ]
  },
  {
   "cell_type": "code",
   "execution_count": 3,
   "metadata": {},
   "outputs": [
    {
     "name": "stdout",
     "output_type": "stream",
     "text": [
      "alpha=10, x=1.00, 0.00, 0.00, 0.00, 0.00, 0.00, 0.00, 0.00, 0.00, 0.00\n",
      "alpha=6, x=0.99, 0.01, 0.00, 0.00, 0.00, 0.00, 0.00, 0.00, 0.00, 0.00\n",
      "alpha=4, x=0.96, 0.03, 0.00, 0.00, 0.00, 0.00, 0.00, 0.00, 0.00, 0.00\n",
      "alpha=2, x=0.84, 0.10, 0.03, 0.01, 0.01, 0.00, 0.00, 0.00, 0.00, 0.00\n",
      "alpha=0.8, x=0.59, 0.17, 0.08, 0.05, 0.03, 0.02, 0.02, 0.01, 0.01, 0.01\n",
      "alpha=0.6, x=0.53, 0.18, 0.09, 0.06, 0.04, 0.03, 0.02, 0.02, 0.02, 0.01\n",
      "alpha=0.4, x=0.47, 0.18, 0.10, 0.07, 0.05, 0.04, 0.03, 0.03, 0.02, 0.02\n",
      "alpha=0.2, x=0.41, 0.18, 0.11, 0.08, 0.06, 0.05, 0.04, 0.03, 0.03, 0.03\n",
      "alpha=-0.2, x=0.28, 0.16, 0.12, 0.09, 0.08, 0.07, 0.06, 0.05, 0.05, 0.04\n",
      "alpha=-1, x=0.10, 0.10, 0.10, 0.10, 0.10, 0.10, 0.10, 0.10, 0.10, 0.10\n"
     ]
    }
   ],
   "source": [
    "alpha_list=[10,6,4,2,0.8,0.6,0.4,0.2,-0.2,-1]\n",
    "m=10\n",
    "for alpha in alpha_list:\n",
    "    x=zipf(alpha,m)\n",
    "    x=np.asarray(x)\n",
    "    #print x until second demical\n",
    "    print(f\"alpha={alpha}, x={', '.join([f'{val:.2f}' for val in x])}\")"
   ]
  }
 ],
 "metadata": {
  "kernelspec": {
   "display_name": "project1",
   "language": "python",
   "name": "python3"
  },
  "language_info": {
   "codemirror_mode": {
    "name": "ipython",
    "version": 3
   },
   "file_extension": ".py",
   "mimetype": "text/x-python",
   "name": "python",
   "nbconvert_exporter": "python",
   "pygments_lexer": "ipython3",
   "version": "3.11.5"
  }
 },
 "nbformat": 4,
 "nbformat_minor": 2
}
